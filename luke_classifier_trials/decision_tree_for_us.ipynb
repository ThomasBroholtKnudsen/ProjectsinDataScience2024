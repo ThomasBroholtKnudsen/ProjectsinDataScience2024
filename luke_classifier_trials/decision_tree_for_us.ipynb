{
 "cells": [
  {
   "cell_type": "code",
   "execution_count": null,
   "metadata": {},
   "outputs": [],
   "source": [
    "import sklearn\n",
    "#from sklearn import datasets\n",
    "from sklearn.tree import DecisionTreeClassifier\n",
    "from sklearn.neighbors import KNeighborsClassifier #assuming yas wants\n",
    "from sklearn.model_selection import train_test_split\n",
    "from sklearn.model_selection import GroupKFold\n",
    "from sklearn.metrics import balanced_accuracy_score\n",
    "\n",
    "import os\n",
    "import pandas as pd\n",
    "import numpy as np\n",
    "\n",
    "from sklearn.tree import plot_tree\n",
    "import matplotlib.pyplot as plt\n",
    "\n",
    "import pickle #to save/load trained classifiers"
   ]
  },
  {
   "cell_type": "code",
   "execution_count": null,
   "metadata": {},
   "outputs": [],
   "source": [
    "#Where are the files\n",
    "file_data = 'data' + os.sep +'okapi_data_metadata.csv'\n",
    "df = pd.read_csv(file_data)\n",
    "label = np.array(df['diagnosis'])\n",
    "\n",
    "# Creating a binary array corresponding to cancer/non-cancer (1 = cancer)\n",
    "cancer = np.copy(label)\n",
    "cancer[cancer == \"BSS\"] = 1\n",
    "cancer[cancer == \"MEL\"] = 1\n",
    "cancer[cancer == \"SCC\"] = 1\n",
    "cancer[cancer == \"ACK\"] = 0\n",
    "cancer[cancer == \"NEV\"] = 0\n",
    "cancer[cancer == \"SEK\"] = 0"
   ]
  },
  {
   "cell_type": "code",
   "execution_count": null,
   "metadata": {},
   "outputs": [],
   "source": [
    "#create a np array from the generated features scores\n",
    "annotation_data = 'features' + os.sep +'feature_okapi_images.csv'\n",
    "our_annotations = pd.read_csv(file_data)\n",
    "asy_scores, col_scores, dg_scores = np.array(our_annotations['asymmetry'],our_annotations[\"colour\"], our_annotations[\"dots\"])"
   ]
  },
  {
   "cell_type": "code",
   "execution_count": null,
   "metadata": {},
   "outputs": [],
   "source": [
    "#load our data set as a dictionary, the feature scores need to go in the \"data\" key\n",
    "#EQUIVALENT TO A FOLDER SYSTEM,\n",
    "#WHERE the key named \"DATA\" IS WHERE THE FEATURE ANNOTATIONS ARE KEPT\n",
    "#\"FEATURE_NAMES\" ARE WHERE THE COLUMN NAMES ARE KEPT FOR REFERENCE\n",
    "#\n",
    "features_csv = {\"data\": None, \"class\": None, \"class_names\": None, \"feature_names\": None}\n",
    "print(features_csv)\n",
    "\n",
    "features_csv[\"data\"] = \n",
    "\n",
    "our_feature_names = [\"Asymmetry\", \"Colour_count\", \"Dots_and_Globules\"]\n",
    "features_csv[\"feature_names\"] = our_feature_names\n",
    "\n",
    "our_classes = [\"Not_Cancer\", \"Cancer\"]\n",
    "\n",
    "features_csv[\"class_names\"] = our_classes\n",
    "features_csv[\"class\"] = cancer\n",
    "\n",
    "print(features_csv)\n",
    "#after adding the annotation scores, check that the feature_names are in the correct order\n"
   ]
  },
  {
   "cell_type": "markdown",
   "metadata": {},
   "source": [
    "### ONCE DATA IS READY IN A TABULAR FORMAT, WE NEED TO SPLIT IT, EITHER:\n",
    " - TRAIN, TEST SPLIT\n",
    " - TRAIN, VALIDATION, TEST SPLIT'\n",
    " - CROSS-VALIDATION\n",
    " - ETC"
   ]
  },
  {
   "cell_type": "code",
   "execution_count": null,
   "metadata": {},
   "outputs": [],
   "source": [
    "#KFolding prep\n",
    "num_folds = 5\n",
    "group_kfold = GroupKFold(n_splits =  num_folds)"
   ]
  },
  {
   "cell_type": "code",
   "execution_count": null,
   "metadata": {},
   "outputs": [],
   "source": [
    "#initialises our decision tree using the imported data structure\n",
    "our_dec_tree = DecisionTreeClassifier()\n",
    "\n",
    "#intialises our KNN classifier\n",
    "our_k_NN = \n",
    "\n",
    "#Classifier list to be iterated through later\n",
    "list_of_classifiers = [our_dec_tree, our_k_NN]"
   ]
  },
  {
   "cell_type": "code",
   "execution_count": null,
   "metadata": {},
   "outputs": [],
   "source": [
    "#Initialise a np array for the classifier performance scores\n",
    "acc_val = np.empty([num_folds,len(list_of_classifiers)])\n",
    "\n",
    "\n",
    "#for loops runs the same num_folds we have chosen\n",
    "for i_data, (train_index, val_index) in enumerate(group_kfold.split(x,y,patient_id)):\n",
    "    #the number of training data sets created will therefore also be according to the num_folds\n",
    "    x_train = x[train_index,:]\n",
    "    y_train = y[train_index]\n",
    "    x_val = x[val_index,:]\n",
    "    y_val = y[val_index]\n",
    "\n",
    "    #within each for loop (for each set of training/validation data)\n",
    "    #we'll run the data on each of our classifiers\n",
    "\n",
    "    for j, clf in enumerate(list_of_classifiers)\n",
    "\n",
    "        #Train the classifier\n",
    "        clf.fit(x_train,y_train)\n",
    "    \n",
    "        #Trying out balanced_accuracy_score here as it will balance based upon the proportion of cancer/not cancer in truth\n",
    "        acc_val[i,j] = balanced_accuracy_score(y_val, clf.predict(x_val))"
   ]
  },
  {
   "cell_type": "code",
   "execution_count": null,
   "metadata": {},
   "outputs": [],
   "source": [
    "X_train, X_test, y_train, y_test = train_test_split(features_csv[\"data\"], features_csv[\"class\"])"
   ]
  },
  {
   "cell_type": "code",
   "execution_count": null,
   "metadata": {},
   "outputs": [],
   "source": [
    "#This sets aside some data, designated the test data (for our final test once we've picked a model to use)\n",
    "X_train, X_test, y_train, y_test = train_test_split(features_csv[\"data\"], features_csv[\"class\"])\n",
    "\n",
    "#This is to illustrate the split amounts (the first is a sum of the others)\n",
    "print(features_csv[\"data\"].shape)\n",
    "print(X_train.shape)\n",
    "print(X_test.shape)\n",
    "print(y_train)\n",
    "print(y_test)"
   ]
  },
  {
   "cell_type": "code",
   "execution_count": null,
   "metadata": {},
   "outputs": [],
   "source": [
    "#make predictions of the class of the test data\n",
    "y1_pred = our_dec_tree.predict(X1_test)"
   ]
  },
  {
   "cell_type": "code",
   "execution_count": null,
   "metadata": {},
   "outputs": [],
   "source": [
    "#returns the fraction of correctly classified samples (0-1) scale\n",
    "accuracy_score(y1_test, y1_pred)\n",
    "#where y1_test is the groundtruth, and y1_pred is the model prediction\n",
    "#can give count of correct if normalize = False"
   ]
  },
  {
   "cell_type": "code",
   "execution_count": null,
   "metadata": {},
   "outputs": [],
   "source": [
    "#seems straightforward\n",
    "plot_tree(our_dec_tree)"
   ]
  }
 ],
 "metadata": {
  "kernelspec": {
   "display_name": "base",
   "language": "python",
   "name": "python3"
  },
  "language_info": {
   "codemirror_mode": {
    "name": "ipython",
    "version": 3
   },
   "file_extension": ".py",
   "mimetype": "text/x-python",
   "name": "python",
   "nbconvert_exporter": "python",
   "pygments_lexer": "ipython3",
   "version": "3.12.2"
  }
 },
 "nbformat": 4,
 "nbformat_minor": 2
}
