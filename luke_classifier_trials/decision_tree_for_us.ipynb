{
 "cells": [
  {
   "cell_type": "code",
   "execution_count": 9,
   "metadata": {},
   "outputs": [],
   "source": [
    "import sklearn\n",
    "#from sklearn import datasets\n",
    "from sklearn.tree import DecisionTreeClassifier\n",
    "from sklearn.neighbors import KNeighborsClassifier #assuming yas wants\n",
    "from sklearn.model_selection import train_test_split\n",
    "from sklearn.model_selection import GroupKFold\n",
    "from sklearn.metrics import balanced_accuracy_score\n",
    "\n",
    "import os\n",
    "import pandas as pd\n",
    "import numpy as np\n",
    "\n",
    "from sklearn.tree import plot_tree\n",
    "import matplotlib.pyplot as plt\n",
    "\n",
    "import pickle #to save/load trained classifiers"
   ]
  },
  {
   "cell_type": "code",
   "execution_count": 32,
   "metadata": {},
   "outputs": [],
   "source": [
    "#Where are the files\n",
    "file_data = '..' + os.sep + 'data' + os.sep + 'okapi_data_metadata.csv'\n",
    "df = pd.read_csv(file_data)\n",
    "label = np.array(df['diagnosis'])\n",
    "\n",
    "# Creating a binary array corresponding to cancer/non-cancer (1 = cancer)\n",
    "cancer = np.copy(label)\n",
    "cancer[cancer == \"BCC\"] = 1\n",
    "cancer[cancer == \"MEL\"] = 1\n",
    "cancer[cancer == \"SCC\"] = 1\n",
    "cancer[cancer == \"ACK\"] = 0\n",
    "cancer[cancer == \"NEV\"] = 0\n",
    "cancer[cancer == \"SEK\"] = 0"
   ]
  },
  {
   "cell_type": "code",
   "execution_count": 33,
   "metadata": {},
   "outputs": [],
   "source": [
    "#create a np array from the generated features scores\n",
    "annotation_data = '..' + os.sep + 'features' + os.sep + 'features_okapi_images.csv'\n",
    "our_annotations = pd.read_csv(annotation_data)\n",
    "scores_per_image = []\n",
    "\n",
    "for i in range(len(our_annotations)):\n",
    "    scores_per_image.append((our_annotations[\"asymmetry\"][i], our_annotations[\"colour\"][i], our_annotations[\"dots\"][i]))\n",
    "\n",
    "correct_scores = np.array(scores_per_image)"
   ]
  },
  {
   "cell_type": "code",
   "execution_count": 34,
   "metadata": {},
   "outputs": [
    {
     "data": {
      "text/plain": [
       "array([[1., 1., 0.],\n",
       "       [0., 1., 0.],\n",
       "       [0., 1., 0.],\n",
       "       [2., 3., 0.],\n",
       "       [0., 4., 0.],\n",
       "       [0., 1., 0.],\n",
       "       [0., 1., 0.],\n",
       "       [0., 1., 0.],\n",
       "       [0., 1., 0.],\n",
       "       [0., 1., 0.],\n",
       "       [0., 1., 0.],\n",
       "       [0., 3., 0.],\n",
       "       [0., 1., 0.],\n",
       "       [0., 1., 0.],\n",
       "       [0., 1., 0.],\n",
       "       [1., 1., 0.],\n",
       "       [0., 4., 0.],\n",
       "       [0., 1., 0.],\n",
       "       [0., 2., 0.],\n",
       "       [0., 3., 1.],\n",
       "       [0., 1., 0.],\n",
       "       [0., 1., 0.],\n",
       "       [0., 1., 1.],\n",
       "       [0., 2., 0.],\n",
       "       [2., 1., 0.],\n",
       "       [1., 2., 0.],\n",
       "       [0., 1., 1.],\n",
       "       [0., 1., 0.],\n",
       "       [0., 1., 0.],\n",
       "       [0., 1., 0.],\n",
       "       [0., 1., 0.],\n",
       "       [0., 4., 0.],\n",
       "       [0., 3., 0.],\n",
       "       [1., 1., 0.],\n",
       "       [0., 1., 0.],\n",
       "       [0., 1., 0.],\n",
       "       [0., 4., 0.],\n",
       "       [0., 1., 0.],\n",
       "       [0., 1., 0.],\n",
       "       [0., 1., 0.],\n",
       "       [0., 1., 0.],\n",
       "       [0., 1., 0.],\n",
       "       [1., 1., 1.],\n",
       "       [0., 1., 0.],\n",
       "       [0., 3., 0.],\n",
       "       [0., 3., 0.],\n",
       "       [0., 4., 0.],\n",
       "       [0., 1., 0.],\n",
       "       [0., 4., 0.],\n",
       "       [0., 1., 0.],\n",
       "       [2., 1., 0.],\n",
       "       [0., 1., 0.],\n",
       "       [1., 1., 0.],\n",
       "       [0., 1., 0.],\n",
       "       [0., 1., 0.],\n",
       "       [1., 1., 0.],\n",
       "       [0., 1., 0.],\n",
       "       [0., 1., 0.],\n",
       "       [0., 1., 0.],\n",
       "       [0., 1., 0.],\n",
       "       [0., 4., 0.],\n",
       "       [0., 1., 0.],\n",
       "       [0., 2., 0.],\n",
       "       [0., 1., 0.],\n",
       "       [0., 1., 0.],\n",
       "       [0., 1., 0.],\n",
       "       [0., 1., 0.],\n",
       "       [1., 1., 0.],\n",
       "       [0., 2., 0.],\n",
       "       [0., 1., 0.],\n",
       "       [0., 1., 0.],\n",
       "       [0., 1., 0.],\n",
       "       [0., 1., 0.],\n",
       "       [0., 1., 0.],\n",
       "       [1., 1., 0.],\n",
       "       [0., 1., 1.],\n",
       "       [0., 1., 0.],\n",
       "       [0., 1., 0.],\n",
       "       [0., 1., 0.],\n",
       "       [0., 2., 0.],\n",
       "       [0., 2., 0.],\n",
       "       [0., 1., 0.],\n",
       "       [0., 1., 0.],\n",
       "       [1., 1., 0.],\n",
       "       [0., 1., 0.],\n",
       "       [0., 1., 0.],\n",
       "       [0., 1., 0.],\n",
       "       [0., 1., 0.],\n",
       "       [0., 1., 0.],\n",
       "       [0., 4., 0.],\n",
       "       [0., 4., 0.],\n",
       "       [0., 2., 0.],\n",
       "       [0., 3., 0.],\n",
       "       [0., 1., 0.],\n",
       "       [0., 2., 0.],\n",
       "       [1., 1., 0.],\n",
       "       [0., 1., 0.],\n",
       "       [0., 4., 0.],\n",
       "       [0., 1., 0.],\n",
       "       [0., 3., 0.],\n",
       "       [0., 4., 0.],\n",
       "       [1., 4., 0.],\n",
       "       [2., 3., 0.],\n",
       "       [0., 4., 0.],\n",
       "       [0., 1., 0.],\n",
       "       [0., 1., 0.]])"
      ]
     },
     "execution_count": 34,
     "metadata": {},
     "output_type": "execute_result"
    }
   ],
   "source": [
    "correct_scores"
   ]
  },
  {
   "cell_type": "code",
   "execution_count": 36,
   "metadata": {},
   "outputs": [
    {
     "name": "stdout",
     "output_type": "stream",
     "text": [
      "{'data': None, 'class': None, 'class_names': None, 'feature_names': None}\n"
     ]
    }
   ],
   "source": [
    "#load our data set as a dictionary, the feature scores need to go in the \"data\" key\n",
    "#EQUIVALENT TO A FOLDER SYSTEM,\n",
    "#WHERE the key named \"DATA\" IS WHERE THE FEATURE ANNOTATIONS ARE KEPT\n",
    "#\"FEATURE_NAMES\" ARE WHERE THE COLUMN NAMES ARE KEPT FOR REFERENCE\n",
    "#\n",
    "features_csv = {\"data\": None, \"class\": None, \"class_names\": None, \"feature_names\": None}\n",
    "print(features_csv)\n",
    "\n",
    "features_csv[\"data\"] = correct_scores\n",
    "\n",
    "our_feature_names = [\"Asymmetry\", \"Colour_count\", \"Dots_and_Globules\"]\n",
    "features_csv[\"feature_names\"] = our_feature_names\n",
    "\n",
    "our_classes = [\"Not_Cancer\", \"Cancer\"]\n",
    "\n",
    "features_csv[\"class_names\"] = our_classes\n",
    "features_csv[\"class\"] = cancer\n"
   ]
  },
  {
   "cell_type": "markdown",
   "metadata": {},
   "source": [
    "### ONCE DATA IS READY IN A TABULAR FORMAT, WE NEED TO SPLIT IT, EITHER:\n",
    " - TRAIN, TEST SPLIT\n",
    " - TRAIN, VALIDATION, TEST SPLIT'\n",
    " - CROSS-VALIDATION\n",
    " - ETC"
   ]
  },
  {
   "cell_type": "code",
   "execution_count": 37,
   "metadata": {},
   "outputs": [],
   "source": [
    "#KFolding prep\n",
    "num_folds = 5\n",
    "group_kfold = GroupKFold(n_splits =  num_folds)"
   ]
  },
  {
   "cell_type": "code",
   "execution_count": 38,
   "metadata": {},
   "outputs": [],
   "source": [
    "#initialises our decision tree using the imported data structure\n",
    "our_dec_tree = DecisionTreeClassifier()\n",
    "\n",
    "#intialises our KNN classifier\n",
    "our_k_NN = DecisionTreeClassifier() #This is to be changed YASMINE\n",
    "\n",
    "#Classifier list to be iterated through later\n",
    "list_of_classifiers = [our_dec_tree, our_k_NN]"
   ]
  },
  {
   "cell_type": "code",
   "execution_count": 41,
   "metadata": {},
   "outputs": [],
   "source": [
    "#the initial setting aside of test data for the final selected model after validation selects a winner\n",
    "x_entire_train, x_test, y_entire_train, y_entire_test = train_test_split(features_csv[\"data\"], features_csv[\"class\"])"
   ]
  },
  {
   "cell_type": "code",
   "execution_count": 43,
   "metadata": {},
   "outputs": [
    {
     "ename": "SyntaxError",
     "evalue": "invalid syntax (4167185579.py, line 6)",
     "output_type": "error",
     "traceback": [
      "\u001b[1;36m  Cell \u001b[1;32mIn[43], line 6\u001b[1;36m\u001b[0m\n\u001b[1;33m    for i_data, (train_index, val_index) in enumerate(group_kfold.split(x_entire_train,y_entire_train, class)):\u001b[0m\n\u001b[1;37m                                                                                                       ^\u001b[0m\n\u001b[1;31mSyntaxError\u001b[0m\u001b[1;31m:\u001b[0m invalid syntax\n"
     ]
    }
   ],
   "source": [
    "#Initialise a np array for the classifier performance scores\n",
    "acc_val = np.empty([num_folds,len(list_of_classifiers)])\n",
    "\n",
    "\n",
    "#for loops runs the same num_folds we have chosen\n",
    "for i_data, (train_index, val_index) in enumerate(group_kfold.split(x_entire_train,y_entire_train, class)):\n",
    "    #the number of training data sets created will therefore also be according to the num_folds\n",
    "    x_train = x_entire_train[train_index,:]\n",
    "    y_train = y_entire_train[train_index]\n",
    "    x_val = x_entire_train[val_index,:]\n",
    "    y_val = y_entire_train[val_index]\n",
    "\n",
    "    #within each for loop (for each set of training/validation data)\n",
    "    #we'll run the data on each of our classifiers\n",
    "\n",
    "    for j, clf in enumerate(list_of_classifiers):\n",
    "\n",
    "        #Train the classifier\n",
    "        clf.fit(x_train,y_train)\n",
    "    \n",
    "        #Trying out balanced_accuracy_score here as it will balance based upon the proportion of cancer/not cancer in truth\n",
    "        acc_val[i,j] = balanced_accuracy_score(y_val, clf.predict(x_val))"
   ]
  },
  {
   "cell_type": "code",
   "execution_count": null,
   "metadata": {},
   "outputs": [],
   "source": [
    "#This sets aside some data, designated the test data (for our final test once we've picked a model to use)\n",
    "X_train, X_test, y_train, y_test = train_test_split(features_csv[\"data\"], features_csv[\"class\"])\n",
    "\n",
    "#This is to illustrate the split amounts (the first is a sum of the others)\n",
    "print(features_csv[\"data\"].shape)\n",
    "print(X_train.shape)\n",
    "print(X_test.shape)\n",
    "print(y_train)\n",
    "print(y_test)"
   ]
  },
  {
   "cell_type": "code",
   "execution_count": null,
   "metadata": {},
   "outputs": [],
   "source": [
    "#make predictions of the class of the test data\n",
    "y1_pred = our_dec_tree.predict(X1_test)"
   ]
  },
  {
   "cell_type": "code",
   "execution_count": null,
   "metadata": {},
   "outputs": [],
   "source": [
    "#returns the fraction of correctly classified samples (0-1) scale\n",
    "accuracy_score(y1_test, y1_pred)\n",
    "#where y1_test is the groundtruth, and y1_pred is the model prediction\n",
    "#can give count of correct if normalize = False"
   ]
  },
  {
   "cell_type": "code",
   "execution_count": null,
   "metadata": {},
   "outputs": [],
   "source": [
    "#seems straightforward\n",
    "plot_tree(our_dec_tree)"
   ]
  }
 ],
 "metadata": {
  "kernelspec": {
   "display_name": "base",
   "language": "python",
   "name": "python3"
  },
  "language_info": {
   "codemirror_mode": {
    "name": "ipython",
    "version": 3
   },
   "file_extension": ".py",
   "mimetype": "text/x-python",
   "name": "python",
   "nbconvert_exporter": "python",
   "pygments_lexer": "ipython3",
   "version": "3.12.2"
  }
 },
 "nbformat": 4,
 "nbformat_minor": 2
}
