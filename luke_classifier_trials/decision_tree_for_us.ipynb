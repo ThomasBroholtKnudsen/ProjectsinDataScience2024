{
 "cells": [
  {
   "cell_type": "code",
   "execution_count": 1,
   "metadata": {},
   "outputs": [],
   "source": [
    "import sklearn\n",
    "#from sklearn import datasets\n",
    "from sklearn.tree import DecisionTreeClassifier\n",
    "from sklearn.neighbors import KNeighborsClassifier #assuming yas wants\n",
    "from sklearn.model_selection import train_test_split\n",
    "from sklearn.model_selection import KFold\n",
    "from sklearn.metrics import balanced_accuracy_score\n",
    "\n",
    "import os\n",
    "import pandas as pd\n",
    "import numpy as np\n",
    "\n",
    "from sklearn.tree import plot_tree\n",
    "import matplotlib.pyplot as plt\n",
    "\n",
    "import pickle #to save/load trained classifiers"
   ]
  },
  {
   "cell_type": "code",
   "execution_count": 22,
   "metadata": {},
   "outputs": [
    {
     "name": "stdout",
     "output_type": "stream",
     "text": [
      "['BCC' 'BCC' 'BCC' 'SCC' 'BCC' 'BCC' 'BCC' 'SCC' 'BCC' 'BCC' 'MEL' 'BCC'\n",
      " 'SCC' 'BCC' 'BCC' 'BCC' 'BCC' 'BCC' 'SCC' 'BCC' 'SCC' 'BCC' 'SCC' 'BCC'\n",
      " 'ACK' 'BCC' 'BCC' 'BCC' 'ACK' 'BCC' 'BCC' 'BCC' 'ACK' 'ACK' 'BCC' 'BCC'\n",
      " 'ACK' 'BCC' 'BCC' 'BCC' 'BCC' 'BCC' 'ACK' 'BCC' 'SCC' 'MEL' 'MEL' 'NEV'\n",
      " 'SCC' 'BCC' 'ACK' 'BCC' 'BCC' 'BCC' 'BCC' 'SCC' 'BCC' 'BCC' 'SCC' 'ACK'\n",
      " 'BCC' 'BCC' 'ACK' 'NEV' 'ACK' 'NEV' 'ACK' 'ACK' 'ACK' 'SEK' 'ACK' 'NEV'\n",
      " 'NEV' 'NEV' 'ACK' 'SEK' 'ACK' 'NEV' 'ACK' 'SEK' 'ACK' 'ACK' 'ACK' 'ACK'\n",
      " 'SEK' 'SEK' 'NEV' 'NEV' 'NEV' 'SEK' 'SEK' 'SEK' 'SEK' 'ACK' 'NEV' 'ACK'\n",
      " 'ACK' 'ACK' 'ACK' 'NEV' 'SEK' 'ACK' 'SEK' 'SEK' 'ACK' 'NEV']\n",
      "<class 'numpy.ndarray'>\n"
     ]
    }
   ],
   "source": [
    "#Where are the files\n",
    "file_data = '..' + os.sep + 'data' + os.sep + 'okapi_data_metadata.csv'\n",
    "df = pd.read_csv(file_data)\n",
    "label = np.array(df['diagnosis'])\n",
    "print(label)\n",
    "\n",
    "# Creating a binary array corresponding to cancer/non-cancer (1 = cancer)\n",
    "cancer = np.copy(label)\n",
    "cancer[cancer == \"BCC\"] = 1\n",
    "cancer[cancer == \"MEL\"] = 1\n",
    "cancer[cancer == \"SCC\"] = 1\n",
    "cancer[cancer == \"ACK\"] = 0\n",
    "cancer[cancer == \"NEV\"] = 0\n",
    "cancer[cancer == \"SEK\"] = 0\n",
    "print(type(cancer))"
   ]
  },
  {
   "cell_type": "code",
   "execution_count": 3,
   "metadata": {},
   "outputs": [],
   "source": [
    "#create a np array from the generated features scores\n",
    "annotation_data = '..' + os.sep + 'features' + os.sep + 'features_okapi_images.csv'\n",
    "our_annotations = pd.read_csv(annotation_data)\n",
    "scores_per_image = []\n",
    "\n",
    "for i in range(len(our_annotations)):\n",
    "    scores_per_image.append((our_annotations[\"asymmetry\"][i], our_annotations[\"colour\"][i], our_annotations[\"dots\"][i]))\n",
    "\n",
    "correct_scores = np.array(scores_per_image)"
   ]
  },
  {
   "cell_type": "code",
   "execution_count": 12,
   "metadata": {},
   "outputs": [
    {
     "data": {
      "text/plain": [
       "array([[1., 1., 0.],\n",
       "       [0., 1., 0.],\n",
       "       [0., 1., 0.],\n",
       "       [2., 3., 0.],\n",
       "       [0., 4., 0.],\n",
       "       [0., 1., 0.],\n",
       "       [0., 1., 0.],\n",
       "       [0., 1., 0.],\n",
       "       [0., 1., 0.],\n",
       "       [0., 1., 0.],\n",
       "       [0., 1., 0.],\n",
       "       [0., 3., 0.],\n",
       "       [0., 1., 0.],\n",
       "       [0., 1., 0.],\n",
       "       [0., 1., 0.],\n",
       "       [1., 1., 0.],\n",
       "       [0., 4., 0.],\n",
       "       [0., 1., 0.],\n",
       "       [0., 2., 0.],\n",
       "       [0., 3., 1.],\n",
       "       [0., 1., 0.],\n",
       "       [0., 1., 0.],\n",
       "       [0., 1., 1.],\n",
       "       [0., 2., 0.],\n",
       "       [2., 1., 0.],\n",
       "       [1., 2., 0.],\n",
       "       [0., 1., 1.],\n",
       "       [0., 1., 0.],\n",
       "       [0., 1., 0.],\n",
       "       [0., 1., 0.],\n",
       "       [0., 1., 0.],\n",
       "       [0., 4., 0.],\n",
       "       [0., 3., 0.],\n",
       "       [1., 1., 0.],\n",
       "       [0., 1., 0.],\n",
       "       [0., 1., 0.],\n",
       "       [0., 4., 0.],\n",
       "       [0., 1., 0.],\n",
       "       [0., 1., 0.],\n",
       "       [0., 1., 0.],\n",
       "       [0., 1., 0.],\n",
       "       [0., 1., 0.],\n",
       "       [1., 1., 1.],\n",
       "       [0., 1., 0.],\n",
       "       [0., 3., 0.],\n",
       "       [0., 3., 0.],\n",
       "       [0., 4., 0.],\n",
       "       [0., 1., 0.],\n",
       "       [0., 4., 0.],\n",
       "       [0., 1., 0.],\n",
       "       [2., 1., 0.],\n",
       "       [0., 1., 0.],\n",
       "       [1., 1., 0.],\n",
       "       [0., 1., 0.],\n",
       "       [0., 1., 0.],\n",
       "       [1., 1., 0.],\n",
       "       [0., 1., 0.],\n",
       "       [0., 1., 0.],\n",
       "       [0., 1., 0.],\n",
       "       [0., 1., 0.],\n",
       "       [0., 4., 0.],\n",
       "       [0., 1., 0.],\n",
       "       [0., 2., 0.],\n",
       "       [0., 1., 0.],\n",
       "       [0., 1., 0.],\n",
       "       [0., 1., 0.],\n",
       "       [0., 1., 0.],\n",
       "       [1., 1., 0.],\n",
       "       [0., 2., 0.],\n",
       "       [0., 1., 0.],\n",
       "       [0., 1., 0.],\n",
       "       [0., 1., 0.],\n",
       "       [0., 1., 0.],\n",
       "       [0., 1., 0.],\n",
       "       [1., 1., 0.],\n",
       "       [0., 1., 1.],\n",
       "       [0., 1., 0.],\n",
       "       [0., 1., 0.],\n",
       "       [0., 1., 0.],\n",
       "       [0., 2., 0.],\n",
       "       [0., 2., 0.],\n",
       "       [0., 1., 0.],\n",
       "       [0., 1., 0.],\n",
       "       [1., 1., 0.],\n",
       "       [0., 1., 0.],\n",
       "       [0., 1., 0.],\n",
       "       [0., 1., 0.],\n",
       "       [0., 1., 0.],\n",
       "       [0., 1., 0.],\n",
       "       [0., 4., 0.],\n",
       "       [0., 4., 0.],\n",
       "       [0., 2., 0.],\n",
       "       [0., 3., 0.],\n",
       "       [0., 1., 0.],\n",
       "       [0., 2., 0.],\n",
       "       [1., 1., 0.],\n",
       "       [0., 1., 0.],\n",
       "       [0., 4., 0.],\n",
       "       [0., 1., 0.],\n",
       "       [0., 3., 0.],\n",
       "       [0., 4., 0.],\n",
       "       [1., 4., 0.],\n",
       "       [2., 3., 0.],\n",
       "       [0., 4., 0.],\n",
       "       [0., 1., 0.],\n",
       "       [0., 1., 0.]])"
      ]
     },
     "execution_count": 12,
     "metadata": {},
     "output_type": "execute_result"
    }
   ],
   "source": [
    "correct_scores"
   ]
  },
  {
   "cell_type": "code",
   "execution_count": 20,
   "metadata": {},
   "outputs": [
    {
     "name": "stdout",
     "output_type": "stream",
     "text": [
      "{'data': None, 'class': None, 'class_names': None, 'feature_names': None}\n",
      "[1 1 1 1 1 1 1 1 1 1 1 1 1 1 1 1 1 1 1 1 1 1 1 1 0 1 1 1 0 1 1 1 0 0 1 1 0\n",
      " 1 1 1 1 1 0 1 1 1 1 0 1 1 0 1 1 1 1 1 1 1 1 0 1 1 0 0 0 0 0 0 0 0 0 0 0 0\n",
      " 0 0 0 0 0 0 0 0 0 0 0 0 0 0 0 0 0 0 0 0 0 0 0 0 0 0 0 0 0 0 0 0]\n"
     ]
    }
   ],
   "source": [
    "#load our data set as a dictionary, the feature scores need to go in the \"data\" key\n",
    "#EQUIVALENT TO A FOLDER SYSTEM,\n",
    "#WHERE the key named \"DATA\" IS WHERE THE FEATURE ANNOTATIONS ARE KEPT\n",
    "#\"FEATURE_NAMES\" ARE WHERE THE COLUMN NAMES ARE KEPT FOR REFERENCE\n",
    "#\n",
    "features_csv = {\"data\": None, \"class\": None, \"class_names\": None, \"feature_names\": None}\n",
    "print(features_csv)\n",
    "\n",
    "features_csv[\"data\"] = correct_scores\n",
    "\n",
    "our_feature_names = [\"Asymmetry\", \"Colour_count\", \"Dots_and_Globules\"]\n",
    "features_csv[\"feature_names\"] = our_feature_names\n",
    "\n",
    "our_classes = [\"Not_Cancer\", \"Cancer\"]\n",
    "\n",
    "features_csv[\"class_names\"] = our_classes\n",
    "features_csv[\"class\"] = cancer\n",
    "\n",
    "print(features_csv[\"class\"])\n"
   ]
  },
  {
   "cell_type": "markdown",
   "metadata": {},
   "source": [
    "### ONCE DATA IS READY IN A TABULAR FORMAT, WE NEED TO SPLIT IT, EITHER:\n",
    " - TRAIN, TEST SPLIT\n",
    " - TRAIN, VALIDATION, TEST SPLIT'\n",
    " - CROSS-VALIDATION\n",
    " - ETC"
   ]
  },
  {
   "cell_type": "code",
   "execution_count": 5,
   "metadata": {},
   "outputs": [],
   "source": [
    "#KFolding prep\n",
    "num_folds = 5\n",
    "kfold = KFold(n_splits =  num_folds)"
   ]
  },
  {
   "cell_type": "code",
   "execution_count": 16,
   "metadata": {},
   "outputs": [],
   "source": [
    "#initialises our decision tree using the imported data structure\n",
    "our_dec_tree = DecisionTreeClassifier()\n",
    "\n",
    "#intialises our KNN classifier\n",
    "our_k_NN = DecisionTreeClassifier() #This is to be changed YASMINE\n",
    "\n",
    "#Classifier list to be iterated through later\n",
    "list_of_classifiers = [our_dec_tree, our_k_NN]"
   ]
  },
  {
   "cell_type": "code",
   "execution_count": 10,
   "metadata": {},
   "outputs": [
    {
     "name": "stdout",
     "output_type": "stream",
     "text": [
      "(79, 3)\n",
      "(27, 3)\n",
      "(79,)\n",
      "(27,)\n"
     ]
    }
   ],
   "source": [
    "#the initial setting aside of test data for the final selected model after validation selects a winner\n",
    "x_entire_train, x_test, y_entire_train, y_test = train_test_split(features_csv[\"data\"], features_csv[\"class\"])\n",
    "print(x_entire_train.shape)\n",
    "print(x_test.shape)\n",
    "print(y_entire_train.shape)\n",
    "print(y_test.shape)"
   ]
  },
  {
   "cell_type": "code",
   "execution_count": 17,
   "metadata": {},
   "outputs": [
    {
     "name": "stdout",
     "output_type": "stream",
     "text": [
      "(63, 3)\n"
     ]
    },
    {
     "ename": "ValueError",
     "evalue": "Unknown label type: unknown. Maybe you are trying to fit a classifier, which expects discrete classes on a regression target with continuous values.",
     "output_type": "error",
     "traceback": [
      "\u001b[1;31m---------------------------------------------------------------------------\u001b[0m",
      "\u001b[1;31mValueError\u001b[0m                                Traceback (most recent call last)",
      "Cell \u001b[1;32mIn[17], line 25\u001b[0m\n\u001b[0;32m     12\u001b[0m y_val \u001b[38;5;241m=\u001b[39m y_entire_train[val_index]\n\u001b[0;32m     14\u001b[0m \u001b[38;5;66;03m#within each for loop (for each set of training/validation data)\u001b[39;00m\n\u001b[0;32m     15\u001b[0m \u001b[38;5;66;03m#we'll run the data on each of our classifiers\u001b[39;00m\n\u001b[0;32m     16\u001b[0m \n\u001b[1;32m   (...)\u001b[0m\n\u001b[0;32m     23\u001b[0m     \u001b[38;5;66;03m#predict is auc\u001b[39;00m\n\u001b[0;32m     24\u001b[0m     \u001b[38;5;66;03m#acc_val[i,j] = balanced_accuracy_score(y_val, clf.predict(x_val))\u001b[39;00m\n\u001b[1;32m---> 25\u001b[0m \u001b[43mour_dec_tree\u001b[49m\u001b[38;5;241;43m.\u001b[39;49m\u001b[43mfit\u001b[49m\u001b[43m(\u001b[49m\u001b[43mx_train\u001b[49m\u001b[43m,\u001b[49m\u001b[43m \u001b[49m\u001b[43my_train\u001b[49m\u001b[43m)\u001b[49m\n",
      "File \u001b[1;32mc:\\Users\\luke0\\miniconda3\\Lib\\site-packages\\sklearn\\base.py:1474\u001b[0m, in \u001b[0;36m_fit_context.<locals>.decorator.<locals>.wrapper\u001b[1;34m(estimator, *args, **kwargs)\u001b[0m\n\u001b[0;32m   1467\u001b[0m     estimator\u001b[38;5;241m.\u001b[39m_validate_params()\n\u001b[0;32m   1469\u001b[0m \u001b[38;5;28;01mwith\u001b[39;00m config_context(\n\u001b[0;32m   1470\u001b[0m     skip_parameter_validation\u001b[38;5;241m=\u001b[39m(\n\u001b[0;32m   1471\u001b[0m         prefer_skip_nested_validation \u001b[38;5;129;01mor\u001b[39;00m global_skip_validation\n\u001b[0;32m   1472\u001b[0m     )\n\u001b[0;32m   1473\u001b[0m ):\n\u001b[1;32m-> 1474\u001b[0m     \u001b[38;5;28;01mreturn\u001b[39;00m \u001b[43mfit_method\u001b[49m\u001b[43m(\u001b[49m\u001b[43mestimator\u001b[49m\u001b[43m,\u001b[49m\u001b[43m \u001b[49m\u001b[38;5;241;43m*\u001b[39;49m\u001b[43margs\u001b[49m\u001b[43m,\u001b[49m\u001b[43m \u001b[49m\u001b[38;5;241;43m*\u001b[39;49m\u001b[38;5;241;43m*\u001b[39;49m\u001b[43mkwargs\u001b[49m\u001b[43m)\u001b[49m\n",
      "File \u001b[1;32mc:\\Users\\luke0\\miniconda3\\Lib\\site-packages\\sklearn\\tree\\_classes.py:1009\u001b[0m, in \u001b[0;36mDecisionTreeClassifier.fit\u001b[1;34m(self, X, y, sample_weight, check_input)\u001b[0m\n\u001b[0;32m    978\u001b[0m \u001b[38;5;129m@_fit_context\u001b[39m(prefer_skip_nested_validation\u001b[38;5;241m=\u001b[39m\u001b[38;5;28;01mTrue\u001b[39;00m)\n\u001b[0;32m    979\u001b[0m \u001b[38;5;28;01mdef\u001b[39;00m \u001b[38;5;21mfit\u001b[39m(\u001b[38;5;28mself\u001b[39m, X, y, sample_weight\u001b[38;5;241m=\u001b[39m\u001b[38;5;28;01mNone\u001b[39;00m, check_input\u001b[38;5;241m=\u001b[39m\u001b[38;5;28;01mTrue\u001b[39;00m):\n\u001b[0;32m    980\u001b[0m \u001b[38;5;250m    \u001b[39m\u001b[38;5;124;03m\"\"\"Build a decision tree classifier from the training set (X, y).\u001b[39;00m\n\u001b[0;32m    981\u001b[0m \n\u001b[0;32m    982\u001b[0m \u001b[38;5;124;03m    Parameters\u001b[39;00m\n\u001b[1;32m   (...)\u001b[0m\n\u001b[0;32m   1006\u001b[0m \u001b[38;5;124;03m        Fitted estimator.\u001b[39;00m\n\u001b[0;32m   1007\u001b[0m \u001b[38;5;124;03m    \"\"\"\u001b[39;00m\n\u001b[1;32m-> 1009\u001b[0m     \u001b[38;5;28;43msuper\u001b[39;49m\u001b[43m(\u001b[49m\u001b[43m)\u001b[49m\u001b[38;5;241;43m.\u001b[39;49m\u001b[43m_fit\u001b[49m\u001b[43m(\u001b[49m\n\u001b[0;32m   1010\u001b[0m \u001b[43m        \u001b[49m\u001b[43mX\u001b[49m\u001b[43m,\u001b[49m\n\u001b[0;32m   1011\u001b[0m \u001b[43m        \u001b[49m\u001b[43my\u001b[49m\u001b[43m,\u001b[49m\n\u001b[0;32m   1012\u001b[0m \u001b[43m        \u001b[49m\u001b[43msample_weight\u001b[49m\u001b[38;5;241;43m=\u001b[39;49m\u001b[43msample_weight\u001b[49m\u001b[43m,\u001b[49m\n\u001b[0;32m   1013\u001b[0m \u001b[43m        \u001b[49m\u001b[43mcheck_input\u001b[49m\u001b[38;5;241;43m=\u001b[39;49m\u001b[43mcheck_input\u001b[49m\u001b[43m,\u001b[49m\n\u001b[0;32m   1014\u001b[0m \u001b[43m    \u001b[49m\u001b[43m)\u001b[49m\n\u001b[0;32m   1015\u001b[0m     \u001b[38;5;28;01mreturn\u001b[39;00m \u001b[38;5;28mself\u001b[39m\n",
      "File \u001b[1;32mc:\\Users\\luke0\\miniconda3\\Lib\\site-packages\\sklearn\\tree\\_classes.py:294\u001b[0m, in \u001b[0;36mBaseDecisionTree._fit\u001b[1;34m(self, X, y, sample_weight, check_input, missing_values_in_feature_mask)\u001b[0m\n\u001b[0;32m    291\u001b[0m \u001b[38;5;28mself\u001b[39m\u001b[38;5;241m.\u001b[39mn_outputs_ \u001b[38;5;241m=\u001b[39m y\u001b[38;5;241m.\u001b[39mshape[\u001b[38;5;241m1\u001b[39m]\n\u001b[0;32m    293\u001b[0m \u001b[38;5;28;01mif\u001b[39;00m is_classification:\n\u001b[1;32m--> 294\u001b[0m     \u001b[43mcheck_classification_targets\u001b[49m\u001b[43m(\u001b[49m\u001b[43my\u001b[49m\u001b[43m)\u001b[49m\n\u001b[0;32m    295\u001b[0m     y \u001b[38;5;241m=\u001b[39m np\u001b[38;5;241m.\u001b[39mcopy(y)\n\u001b[0;32m    297\u001b[0m     \u001b[38;5;28mself\u001b[39m\u001b[38;5;241m.\u001b[39mclasses_ \u001b[38;5;241m=\u001b[39m []\n",
      "File \u001b[1;32mc:\\Users\\luke0\\miniconda3\\Lib\\site-packages\\sklearn\\utils\\multiclass.py:221\u001b[0m, in \u001b[0;36mcheck_classification_targets\u001b[1;34m(y)\u001b[0m\n\u001b[0;32m    213\u001b[0m y_type \u001b[38;5;241m=\u001b[39m type_of_target(y, input_name\u001b[38;5;241m=\u001b[39m\u001b[38;5;124m\"\u001b[39m\u001b[38;5;124my\u001b[39m\u001b[38;5;124m\"\u001b[39m)\n\u001b[0;32m    214\u001b[0m \u001b[38;5;28;01mif\u001b[39;00m y_type \u001b[38;5;129;01mnot\u001b[39;00m \u001b[38;5;129;01min\u001b[39;00m [\n\u001b[0;32m    215\u001b[0m     \u001b[38;5;124m\"\u001b[39m\u001b[38;5;124mbinary\u001b[39m\u001b[38;5;124m\"\u001b[39m,\n\u001b[0;32m    216\u001b[0m     \u001b[38;5;124m\"\u001b[39m\u001b[38;5;124mmulticlass\u001b[39m\u001b[38;5;124m\"\u001b[39m,\n\u001b[1;32m   (...)\u001b[0m\n\u001b[0;32m    219\u001b[0m     \u001b[38;5;124m\"\u001b[39m\u001b[38;5;124mmultilabel-sequences\u001b[39m\u001b[38;5;124m\"\u001b[39m,\n\u001b[0;32m    220\u001b[0m ]:\n\u001b[1;32m--> 221\u001b[0m     \u001b[38;5;28;01mraise\u001b[39;00m \u001b[38;5;167;01mValueError\u001b[39;00m(\n\u001b[0;32m    222\u001b[0m         \u001b[38;5;124mf\u001b[39m\u001b[38;5;124m\"\u001b[39m\u001b[38;5;124mUnknown label type: \u001b[39m\u001b[38;5;132;01m{\u001b[39;00my_type\u001b[38;5;132;01m}\u001b[39;00m\u001b[38;5;124m. Maybe you are trying to fit a \u001b[39m\u001b[38;5;124m\"\u001b[39m\n\u001b[0;32m    223\u001b[0m         \u001b[38;5;124m\"\u001b[39m\u001b[38;5;124mclassifier, which expects discrete classes on a \u001b[39m\u001b[38;5;124m\"\u001b[39m\n\u001b[0;32m    224\u001b[0m         \u001b[38;5;124m\"\u001b[39m\u001b[38;5;124mregression target with continuous values.\u001b[39m\u001b[38;5;124m\"\u001b[39m\n\u001b[0;32m    225\u001b[0m     )\n",
      "\u001b[1;31mValueError\u001b[0m: Unknown label type: unknown. Maybe you are trying to fit a classifier, which expects discrete classes on a regression target with continuous values."
     ]
    }
   ],
   "source": [
    "#Initialise a np array for the classifier performance scores\n",
    "acc_val = np.empty([num_folds,len(list_of_classifiers)])\n",
    "\n",
    "\n",
    "#for loops runs the same num_folds we have chosen\n",
    "for i_data, (train_index, val_index) in enumerate(kfold.split(x_entire_train,y_entire_train)):\n",
    "    #the number of training data sets created will therefore also be according to the num_folds\n",
    "    x_train = x_entire_train[train_index,:]\n",
    "    print(x_train.shape)\n",
    "    y_train = y_entire_train[train_index]\n",
    "    x_val = x_entire_train[val_index,:]\n",
    "    y_val = y_entire_train[val_index]\n",
    "\n",
    "    #within each for loop (for each set of training/validation data)\n",
    "    #we'll run the data on each of our classifiers\n",
    "\n",
    "    #for j, clf in enumerate(list_of_classifiers):\n",
    "\n",
    "        #Train the classifier\n",
    "        #clf.fit(x_train,y_train)\n",
    "    \n",
    "        #Trying out balanced_accuracy_score here as it will balance based upon the proportion of cancer/not cancer in truth\n",
    "        #predict is auc\n",
    "        #acc_val[i,j] = balanced_accuracy_score(y_val, clf.predict(x_val))\n",
    "    our_dec_tree.fit(x_train, y_train)"
   ]
  },
  {
   "cell_type": "code",
   "execution_count": null,
   "metadata": {},
   "outputs": [],
   "source": [
    "#This sets aside some data, designated the test data (for our final test once we've picked a model to use)\n",
    "X_train, X_test, y_train, y_test = train_test_split(features_csv[\"data\"], features_csv[\"class\"])\n",
    "\n",
    "#This is to illustrate the split amounts (the first is a sum of the others)\n",
    "print(features_csv[\"data\"].shape)\n",
    "print(X_train.shape)\n",
    "print(X_test.shape)\n",
    "print(y_train)\n",
    "print(y_test)"
   ]
  },
  {
   "cell_type": "code",
   "execution_count": null,
   "metadata": {},
   "outputs": [],
   "source": [
    "#make predictions of the class of the test data\n",
    "y1_pred = our_dec_tree.predict(X1_test)"
   ]
  },
  {
   "cell_type": "code",
   "execution_count": null,
   "metadata": {},
   "outputs": [],
   "source": [
    "#returns the fraction of correctly classified samples (0-1) scale\n",
    "accuracy_score(y1_test, y1_pred)\n",
    "#where y1_test is the groundtruth, and y1_pred is the model prediction\n",
    "#can give count of correct if normalize = False"
   ]
  },
  {
   "cell_type": "code",
   "execution_count": null,
   "metadata": {},
   "outputs": [],
   "source": [
    "#seems straightforward\n",
    "plot_tree(our_dec_tree)"
   ]
  }
 ],
 "metadata": {
  "kernelspec": {
   "display_name": "base",
   "language": "python",
   "name": "python3"
  },
  "language_info": {
   "codemirror_mode": {
    "name": "ipython",
    "version": 3
   },
   "file_extension": ".py",
   "mimetype": "text/x-python",
   "name": "python",
   "nbconvert_exporter": "python",
   "pygments_lexer": "ipython3",
   "version": "3.12.2"
  }
 },
 "nbformat": 4,
 "nbformat_minor": 2
}
